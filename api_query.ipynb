{
 "cells": [
  {
   "cell_type": "code",
   "execution_count": 28,
   "metadata": {},
   "outputs": [
    {
     "name": "stdout",
     "output_type": "stream",
     "text": [
      "This is my twitter bot\n"
     ]
    }
   ],
   "source": [
    "import tweepy\n",
    "import keys\n",
    "\n",
    "#created this jupyter notebook to perform read requests through API\n",
    "\n",
    "print('This is my twitter bot')\n",
    "\n",
    "auth = tweepy.OAuth1UserHandler(\n",
    "   keys.consumer_key, keys.consumer_secret, keys.access_token, keys.access_token_secret\n",
    ")\n",
    "\n",
    "api = tweepy.API(auth)"
   ]
  },
  {
   "cell_type": "code",
   "execution_count": 31,
   "metadata": {},
   "outputs": [],
   "source": [
    "mentions = api.mentions_timeline()"
   ]
  },
  {
   "cell_type": "code",
   "execution_count": 32,
   "metadata": {},
   "outputs": [
    {
     "data": {
      "text/plain": [
       "dict_keys(['_api', '_json', 'created_at', 'id', 'id_str', 'text', 'truncated', 'entities', 'source', 'source_url', 'in_reply_to_status_id', 'in_reply_to_status_id_str', 'in_reply_to_user_id', 'in_reply_to_user_id_str', 'in_reply_to_screen_name', 'author', 'user', 'geo', 'coordinates', 'place', 'contributors', 'is_quote_status', 'retweet_count', 'favorite_count', 'favorited', 'retweeted', 'lang'])"
      ]
     },
     "execution_count": 32,
     "metadata": {},
     "output_type": "execute_result"
    }
   ],
   "source": [
    "mentions[0].__dict__.keys()"
   ]
  },
  {
   "cell_type": "code",
   "execution_count": 33,
   "metadata": {},
   "outputs": [
    {
     "data": {
      "text/plain": [
       "User(_api=<tweepy.api.API object at 0x000001A571232710>, _json={'id': 1366245790016884737, 'id_str': '1366245790016884737', 'name': 'Aman', 'screen_name': 'AmanKaintura007', 'location': 'Delhi, India', 'description': '', 'url': None, 'entities': {'description': {'urls': []}}, 'protected': False, 'followers_count': 2, 'friends_count': 6, 'listed_count': 0, 'created_at': 'Mon Mar 01 04:36:09 +0000 2021', 'favourites_count': 5458, 'utc_offset': None, 'time_zone': None, 'geo_enabled': False, 'verified': False, 'statuses_count': 2, 'lang': None, 'contributors_enabled': False, 'is_translator': False, 'is_translation_enabled': False, 'profile_background_color': 'F5F8FA', 'profile_background_image_url': None, 'profile_background_image_url_https': None, 'profile_background_tile': False, 'profile_image_url': 'http://pbs.twimg.com/profile_images/1539544691791630336/2To-493s_normal.jpg', 'profile_image_url_https': 'https://pbs.twimg.com/profile_images/1539544691791630336/2To-493s_normal.jpg', 'profile_banner_url': 'https://pbs.twimg.com/profile_banners/1366245790016884737/1655891095', 'profile_link_color': '1DA1F2', 'profile_sidebar_border_color': 'C0DEED', 'profile_sidebar_fill_color': 'DDEEF6', 'profile_text_color': '333333', 'profile_use_background_image': True, 'has_extended_profile': True, 'default_profile': True, 'default_profile_image': False, 'following': False, 'follow_request_sent': False, 'notifications': False, 'translator_type': 'none', 'withheld_in_countries': []}, id=1366245790016884737, id_str='1366245790016884737', name='Aman', screen_name='AmanKaintura007', location='Delhi, India', description='', url=None, entities={'description': {'urls': []}}, protected=False, followers_count=2, friends_count=6, listed_count=0, created_at=datetime.datetime(2021, 3, 1, 4, 36, 9, tzinfo=datetime.timezone.utc), favourites_count=5458, utc_offset=None, time_zone=None, geo_enabled=False, verified=False, statuses_count=2, lang=None, contributors_enabled=False, is_translator=False, is_translation_enabled=False, profile_background_color='F5F8FA', profile_background_image_url=None, profile_background_image_url_https=None, profile_background_tile=False, profile_image_url='http://pbs.twimg.com/profile_images/1539544691791630336/2To-493s_normal.jpg', profile_image_url_https='https://pbs.twimg.com/profile_images/1539544691791630336/2To-493s_normal.jpg', profile_banner_url='https://pbs.twimg.com/profile_banners/1366245790016884737/1655891095', profile_link_color='1DA1F2', profile_sidebar_border_color='C0DEED', profile_sidebar_fill_color='DDEEF6', profile_text_color='333333', profile_use_background_image=True, has_extended_profile=True, default_profile=True, default_profile_image=False, following=False, follow_request_sent=False, notifications=False, translator_type='none', withheld_in_countries=[])"
      ]
     },
     "execution_count": 33,
     "metadata": {},
     "output_type": "execute_result"
    }
   ],
   "source": [
    "mentions[0].user\n"
   ]
  },
  {
   "cell_type": "code",
   "execution_count": 34,
   "metadata": {},
   "outputs": [
    {
     "ename": "Unauthorized",
     "evalue": "401 Unauthorized\nRead-only application cannot POST.",
     "output_type": "error",
     "traceback": [
      "\u001b[1;31m---------------------------------------------------------------------------\u001b[0m",
      "\u001b[1;31mUnauthorized\u001b[0m                              Traceback (most recent call last)",
      "\u001b[1;32mc:\\Users\\harsh\\Dropbox\\My PC (DESKTOP-5JVQ0UA)\\Desktop\\PythonPrograms\\my_bot\\api_query.ipynb Cell 7'\u001b[0m in \u001b[0;36m<cell line: 1>\u001b[1;34m()\u001b[0m\n\u001b[1;32m----> <a href='vscode-notebook-cell:/c%3A/Users/harsh/Dropbox/My%20PC%20%28DESKTOP-5JVQ0UA%29/Desktop/PythonPrograms/my_bot/api_query.ipynb#ch0000013?line=0'>1</a>\u001b[0m api\u001b[39m.\u001b[39;49mupdate_status(status \u001b[39m=\u001b[39;49m \u001b[39m'\u001b[39;49m\u001b[39m@HarshGaurav7 Keep learning and Promoting Python #Python3\u001b[39;49m\u001b[39m'\u001b[39;49m, in_reply_to_status_id \u001b[39m=\u001b[39;49m \u001b[39m'\u001b[39;49m\u001b[39m1539544483120877568\u001b[39;49m\u001b[39m'\u001b[39;49m)\n",
      "File \u001b[1;32mc:\\Users\\harsh\\AppData\\Local\\Programs\\Python\\Python310\\lib\\site-packages\\tweepy\\api.py:46\u001b[0m, in \u001b[0;36mpayload.<locals>.decorator.<locals>.wrapper\u001b[1;34m(*args, **kwargs)\u001b[0m\n\u001b[0;32m     44\u001b[0m kwargs[\u001b[39m'\u001b[39m\u001b[39mpayload_list\u001b[39m\u001b[39m'\u001b[39m] \u001b[39m=\u001b[39m payload_list\n\u001b[0;32m     45\u001b[0m kwargs[\u001b[39m'\u001b[39m\u001b[39mpayload_type\u001b[39m\u001b[39m'\u001b[39m] \u001b[39m=\u001b[39m payload_type\n\u001b[1;32m---> 46\u001b[0m \u001b[39mreturn\u001b[39;00m method(\u001b[39m*\u001b[39margs, \u001b[39m*\u001b[39m\u001b[39m*\u001b[39mkwargs)\n",
      "File \u001b[1;32mc:\\Users\\harsh\\AppData\\Local\\Programs\\Python\\Python310\\lib\\site-packages\\tweepy\\api.py:1136\u001b[0m, in \u001b[0;36mAPI.update_status\u001b[1;34m(self, status, **kwargs)\u001b[0m\n\u001b[0;32m   1133\u001b[0m \u001b[39mif\u001b[39;00m \u001b[39m'\u001b[39m\u001b[39mmedia_ids\u001b[39m\u001b[39m'\u001b[39m \u001b[39min\u001b[39;00m kwargs:\n\u001b[0;32m   1134\u001b[0m     kwargs[\u001b[39m'\u001b[39m\u001b[39mmedia_ids\u001b[39m\u001b[39m'\u001b[39m] \u001b[39m=\u001b[39m list_to_csv(kwargs[\u001b[39m'\u001b[39m\u001b[39mmedia_ids\u001b[39m\u001b[39m'\u001b[39m])\n\u001b[1;32m-> 1136\u001b[0m \u001b[39mreturn\u001b[39;00m \u001b[39mself\u001b[39m\u001b[39m.\u001b[39mrequest(\n\u001b[0;32m   1137\u001b[0m     \u001b[39m'\u001b[39m\u001b[39mPOST\u001b[39m\u001b[39m'\u001b[39m, \u001b[39m'\u001b[39m\u001b[39mstatuses/update\u001b[39m\u001b[39m'\u001b[39m, endpoint_parameters\u001b[39m=\u001b[39m(\n\u001b[0;32m   1138\u001b[0m         \u001b[39m'\u001b[39m\u001b[39mstatus\u001b[39m\u001b[39m'\u001b[39m, \u001b[39m'\u001b[39m\u001b[39min_reply_to_status_id\u001b[39m\u001b[39m'\u001b[39m,\n\u001b[0;32m   1139\u001b[0m         \u001b[39m'\u001b[39m\u001b[39mauto_populate_reply_metadata\u001b[39m\u001b[39m'\u001b[39m, \u001b[39m'\u001b[39m\u001b[39mexclude_reply_user_ids\u001b[39m\u001b[39m'\u001b[39m,\n\u001b[0;32m   1140\u001b[0m         \u001b[39m'\u001b[39m\u001b[39mattachment_url\u001b[39m\u001b[39m'\u001b[39m, \u001b[39m'\u001b[39m\u001b[39mmedia_ids\u001b[39m\u001b[39m'\u001b[39m, \u001b[39m'\u001b[39m\u001b[39mpossibly_sensitive\u001b[39m\u001b[39m'\u001b[39m, \u001b[39m'\u001b[39m\u001b[39mlat\u001b[39m\u001b[39m'\u001b[39m,\n\u001b[0;32m   1141\u001b[0m         \u001b[39m'\u001b[39m\u001b[39mlong\u001b[39m\u001b[39m'\u001b[39m, \u001b[39m'\u001b[39m\u001b[39mplace_id\u001b[39m\u001b[39m'\u001b[39m, \u001b[39m'\u001b[39m\u001b[39mdisplay_coordinates\u001b[39m\u001b[39m'\u001b[39m, \u001b[39m'\u001b[39m\u001b[39mtrim_user\u001b[39m\u001b[39m'\u001b[39m,\n\u001b[0;32m   1142\u001b[0m         \u001b[39m'\u001b[39m\u001b[39mcard_uri\u001b[39m\u001b[39m'\u001b[39m\n\u001b[0;32m   1143\u001b[0m     ), status\u001b[39m=\u001b[39mstatus, \u001b[39m*\u001b[39m\u001b[39m*\u001b[39mkwargs\n\u001b[0;32m   1144\u001b[0m )\n",
      "File \u001b[1;32mc:\\Users\\harsh\\AppData\\Local\\Programs\\Python\\Python310\\lib\\site-packages\\tweepy\\api.py:257\u001b[0m, in \u001b[0;36mAPI.request\u001b[1;34m(self, method, endpoint, endpoint_parameters, params, headers, json_payload, parser, payload_list, payload_type, post_data, files, require_auth, return_cursors, upload_api, use_cache, **kwargs)\u001b[0m\n\u001b[0;32m    255\u001b[0m     \u001b[39mraise\u001b[39;00m BadRequest(resp)\n\u001b[0;32m    256\u001b[0m \u001b[39mif\u001b[39;00m resp\u001b[39m.\u001b[39mstatus_code \u001b[39m==\u001b[39m \u001b[39m401\u001b[39m:\n\u001b[1;32m--> 257\u001b[0m     \u001b[39mraise\u001b[39;00m Unauthorized(resp)\n\u001b[0;32m    258\u001b[0m \u001b[39mif\u001b[39;00m resp\u001b[39m.\u001b[39mstatus_code \u001b[39m==\u001b[39m \u001b[39m403\u001b[39m:\n\u001b[0;32m    259\u001b[0m     \u001b[39mraise\u001b[39;00m Forbidden(resp)\n",
      "\u001b[1;31mUnauthorized\u001b[0m: 401 Unauthorized\nRead-only application cannot POST."
     ]
    }
   ],
   "source": [
    "api.update_status(status = '@HarshGaurav7 Keep learning and Promoting Python #Python3', in_reply_to_status_id = '1539544483120877568')"
   ]
  },
  {
   "cell_type": "code",
   "execution_count": null,
   "metadata": {},
   "outputs": [],
   "source": [
    "#Please let me know anyone how to create a twitter API which can read and write\n",
    "\n",
    "#I am unable to find out how to give these permissions"
   ]
  }
 ],
 "metadata": {
  "kernelspec": {
   "display_name": "Python 3.10.5 64-bit",
   "language": "python",
   "name": "python3"
  },
  "language_info": {
   "codemirror_mode": {
    "name": "ipython",
    "version": 3
   },
   "file_extension": ".py",
   "mimetype": "text/x-python",
   "name": "python",
   "nbconvert_exporter": "python",
   "pygments_lexer": "ipython3",
   "version": "3.10.5"
  },
  "orig_nbformat": 4,
  "vscode": {
   "interpreter": {
    "hash": "e8899eb02dfbc033aab5733bdae1bd213fa031d40331094008e8673d99ebab63"
   }
  }
 },
 "nbformat": 4,
 "nbformat_minor": 2
}
